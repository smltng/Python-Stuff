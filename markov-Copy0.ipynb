{
 "metadata": {
  "name": "",
  "signature": "sha256:cbe2b2de736f0752d806c5d60fd25d3ae9e7cc4516c100bec8530ced48fc4bfe"
 },
 "nbformat": 3,
 "nbformat_minor": 0,
 "worksheets": [
  {
   "cells": [
    {
     "cell_type": "code",
     "collapsed": false,
     "input": [
      "import re\n",
      "import random\n",
      "\n",
      "def markov_chain(text):\n",
      "    f = open(text, 'r')\n",
      "    training_data = f.read()\n",
      "    \n",
      "    #the words need to be in a list so that the program can use information about what words preceed/follow a given word\n",
      "    tokens = [re.sub('[:\\[\\]\\/.!,;?(1-9)*]','',word.lower()) for word in training_data.split() if re.search(\"[a-z]+\",word)]\n",
      "    print \"Tokens: \"\n",
      "    print tokens\n",
      "    \n",
      "    #ensure that only certain words can appear after other words by making a dictionary\n",
      "    markov = {i:[] for i in tokens}\n",
      "    for prev, current in zip(tokens, tokens[1:]):\n",
      "        markov[prev].append(current)\n",
      "\n",
      "    print \"Dicationary: \"\n",
      "    print markov\n",
      "    \n",
      "    #define the average sentence length\n",
      "    sentence_length = random.randint(10,15)\n",
      "    \n",
      "    #pick the first word in the sentence\n",
      "    current_word = random.choice(markov.keys())\n",
      "    \n",
      "    generated_sentence = [current_word]\n",
      "    while len(generated_sentence) < sentence_length:\n",
      "        next_word = random.choice(markov[current_word]) \n",
      "        current_word = next_word\n",
      "        generated_sentence.append(next_word)\n",
      "    \n",
      "    f.close()\n",
      "    \n",
      "    return \" \".join(generated_sentence).capitalize() + \".\"\n",
      "    \n",
      "\n",
      "markov_chain(\"sample.txt\")\n"
     ],
     "language": "python",
     "metadata": {},
     "outputs": [
      {
       "output_type": "stream",
       "stream": "stdout",
       "text": [
        "Tokens: \n",
        "['lorem', 'ipsum', 'is', 'simply', 'dummy', 'text', 'of', 'the', 'printing', 'and', 'typesetting', 'industry', 'lorem', 'ipsum', 'has', 'been', 'the', \"industry's\", 'standard', 'dummy', 'text', 'ever', 'since', 'the', '00s', 'when', 'an', 'unknown', 'printer', 'took', 'a', 'galley', 'of', 'type', 'and', 'scrambled', 'it', 'to', 'make', 'a', 'type', 'specimen', 'book', 'it', 'has', 'survived', 'not', 'only', 'five', 'centuries', 'but', 'also', 'the', 'leap', 'into', 'electronic', 'typesetting', 'remaining', 'essentially', 'unchanged', 'it', 'was', 'popularised', 'in', 'the', '0s', 'with', 'the', 'release', 'of', 'letraset', 'sheets', 'containing', 'lorem', 'ipsum', 'passages', 'and', 'more', 'recently', 'with', 'desktop', 'publishing', 'software', 'like', 'aldus', 'pagemaker', 'including', 'versions', 'of', 'lorem', 'ipsum']\n",
        "Dicationary: \n",
        "{'and': ['typesetting', 'scrambled', 'more'], 'pagemaker': ['including'], 'passages': ['and'], 'sheets': ['containing'], 'galley': ['of'], 'text': ['of', 'ever'], 'is': ['simply'], 'in': ['the'], 'it': ['to', 'has', 'was'], 'unchanged': ['it'], 'an': ['unknown'], '00s': ['when'], 'simply': ['dummy'], 'type': ['and', 'specimen'], 'electronic': ['typesetting'], 'was': ['popularised'], 'containing': ['lorem'], 'publishing': ['software'], 'also': ['the'], 'unknown': ['printer'], 'make': ['a'], 'since': ['the'], 'when': ['an'], 'leap': ['into'], 'been': ['the'], 'desktop': ['publishing'], 'to': ['make'], 'only': ['five'], 'book': ['it'], 'typesetting': ['industry', 'remaining'], \"industry's\": ['standard'], 'has': ['been', 'survived'], 'ever': ['since'], 'into': ['electronic'], 'more': ['recently'], 'printer': ['took'], 'recently': ['with'], 'centuries': ['but'], 'dummy': ['text', 'text'], 'with': ['the', 'desktop'], 'specimen': ['book'], 'took': ['a'], 'but': ['also'], 'standard': ['dummy'], 'five': ['centuries'], 'survived': ['not'], 'not': ['only'], 'lorem': ['ipsum', 'ipsum', 'ipsum', 'ipsum'], 'a': ['galley', 'type'], 'ipsum': ['is', 'has', 'passages'], 'essentially': ['unchanged'], 'like': ['aldus'], 'versions': ['of'], 'of': ['the', 'type', 'letraset', 'lorem'], 'industry': ['lorem'], 'remaining': ['essentially'], '0s': ['with'], 'scrambled': ['it'], 'printing': ['and'], 'letraset': ['sheets'], 'popularised': ['in'], 'release': ['of'], 'including': ['versions'], 'the': ['printing', \"industry's\", '00s', 'leap', '0s', 'release'], 'aldus': ['pagemaker'], 'software': ['like']}\n"
       ]
      },
      {
       "metadata": {},
       "output_type": "pyout",
       "prompt_number": 2,
       "text": [
        "'Dummy text of lorem ipsum has been the 0s with the printing.'"
       ]
      }
     ],
     "prompt_number": 2
    },
    {
     "cell_type": "code",
     "collapsed": false,
     "input": [],
     "language": "python",
     "metadata": {},
     "outputs": []
    }
   ],
   "metadata": {}
  }
 ]
}